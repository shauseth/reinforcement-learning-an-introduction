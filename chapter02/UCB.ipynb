{
 "cells": [
  {
   "cell_type": "code",
   "execution_count": 1,
   "metadata": {},
   "outputs": [],
   "source": [
    "# Upper-Confidence-Bound Action Selection, Figure 2.4"
   ]
  },
  {
   "cell_type": "code",
   "execution_count": 2,
   "metadata": {},
   "outputs": [],
   "source": [
    "import numpy as np\n",
    "import matplotlib.pyplot as plt\n",
    "\n",
    "np.set_printoptions(precision=2, suppress=True)"
   ]
  },
  {
   "cell_type": "code",
   "execution_count": 3,
   "metadata": {},
   "outputs": [],
   "source": [
    "def environment():\n",
    "    \"\"\"Returns values and states for 1000 timesteps.\"\"\"\n",
    "    values = np.random.normal(size = 10)\n",
    "    states = np.array([np.random.normal(values) for t in range(1000)])\n",
    "    return values, states"
   ]
  },
  {
   "cell_type": "code",
   "execution_count": 4,
   "metadata": {},
   "outputs": [],
   "source": [
    "def agent():\n",
    "    \"\"\"Initiates estimated values and action counts.\"\"\"\n",
    "    Q = np.zeros(10)\n",
    "    N = np.zeros(10)\n",
    "    return Q, N"
   ]
  },
  {
   "cell_type": "code",
   "execution_count": 5,
   "metadata": {},
   "outputs": [],
   "source": [
    "def greedy(Q):\n",
    "    \"\"\"Picks most valuable action with random tiebreak.\"\"\"\n",
    "    best_choices = np.flatnonzero(Q == Q.max())\n",
    "    greedy_choice = np.random.choice(best_choices)\n",
    "    return greedy_choice"
   ]
  },
  {
   "cell_type": "code",
   "execution_count": 6,
   "metadata": {},
   "outputs": [],
   "source": [
    "def explore(Q):\n",
    "    \"\"\"Picks a random action.\"\"\"\n",
    "    explore_choice = np.random.choice(np.arange(Q.size))\n",
    "    return explore_choice"
   ]
  },
  {
   "cell_type": "code",
   "execution_count": 7,
   "metadata": {},
   "outputs": [],
   "source": [
    "def epsilon_greedy(Q, epsilon):\n",
    "    \"\"\"Picks a random action with epsilon probabilty. Greedy otherwise.\"\"\"\n",
    "    options = ['greedy', 'explore']\n",
    "    probabilities = [1 - epsilon, epsilon]\n",
    "    choice = np.random.choice(options, p = probabilities)\n",
    "    \n",
    "    if choice == 'greedy':\n",
    "        return greedy(Q)\n",
    "    elif choice == 'explore':\n",
    "        return explore(Q)"
   ]
  },
  {
   "cell_type": "code",
   "execution_count": 8,
   "metadata": {},
   "outputs": [],
   "source": [
    "def UCB(Q, N, t, c = 2):\n",
    "    \"\"\"Selects non-greedy actions according to potential of being optimal.\"\"\"\n",
    "    if 0.0 in N:\n",
    "        UCB_choice = np.random.choice(np.arange(Q.size))\n",
    "    else:\n",
    "        UCB_choice = np.argmax(Q + (c * np.sqrt(np.log(t) / N)))\n",
    "    return UCB_choice"
   ]
  },
  {
   "cell_type": "code",
   "execution_count": 9,
   "metadata": {},
   "outputs": [],
   "source": [
    "def learn(Q, A, R, N):\n",
    "    \"\"\"Updates value estimate using the sample-average method.\"\"\"\n",
    "    N[A] = N[A] + 1\n",
    "    Q[A] = Q[A] + (R - Q[A]) / N[A]\n",
    "    return Q, N"
   ]
  },
  {
   "cell_type": "code",
   "execution_count": 10,
   "metadata": {},
   "outputs": [],
   "source": [
    "def run(runs, epsilon = False):\n",
    "    \"\"\"Return average behavior given epsilon and number of runs.\"\"\"\n",
    "    rewards = np.zeros((runs, 1000))\n",
    "\n",
    "    for run in range(runs):\n",
    "        values, states = environment()\n",
    "        Q, N = agent()\n",
    "\n",
    "        for t, state in enumerate(states):\n",
    "            if epsilon == False:\n",
    "                A = UCB(Q, N, t)\n",
    "            else:\n",
    "                A = epsilon_greedy(Q, epsilon)\n",
    "                \n",
    "            R = state[A]\n",
    "            Q, N = learn(Q, A, R, N)\n",
    "\n",
    "            rewards[run, t] = R\n",
    "            \n",
    "    avg_rewards = rewards.mean(axis = 0)\n",
    "    return avg_rewards"
   ]
  },
  {
   "cell_type": "code",
   "execution_count": 11,
   "metadata": {},
   "outputs": [
    {
     "name": "stdout",
     "output_type": "stream",
     "text": [
      "First run complete.\n",
      "Second run complete.\n"
     ]
    }
   ],
   "source": [
    "# running for UCB and epsilon greedy\n",
    "\n",
    "runs = 2000\n",
    "\n",
    "first = run(runs, 0.1); print('First run complete.')\n",
    "second = run(runs); print('Second run complete.') # c = 2"
   ]
  },
  {
   "cell_type": "code",
   "execution_count": 12,
   "metadata": {},
   "outputs": [
    {
     "data": {
      "image/png": "[encoded data removed]",
      "text/plain": [
       "<Figure size 576x288 with 1 Axes>"
      ]
     },
     "metadata": {
      "needs_background": "light"
     },
     "output_type": "display_data"
    }
   ],
   "source": [
    "# plotting the results\n",
    "\n",
    "plt.figure(figsize = (8, 4))\n",
    "plt.plot(first, color = 'grey', label = 'epsilon-greedy')\n",
    "plt.plot(second, color = 'blue', label = 'UCB')\n",
    "plt.xlabel('Steps')\n",
    "plt.ylabel('Average Reward')\n",
    "plt.ylim(bottom = 0)\n",
    "plt.legend()\n",
    "\n",
    "plt.show()"
   ]
  },
  {
   "cell_type": "code",
   "execution_count": null,
   "metadata": {},
   "outputs": [],
   "source": []
  }
 ],
 "metadata": {
  "kernelspec": {
   "display_name": "Python 3",
   "language": "python",
   "name": "python3"
  },
  "language_info": {
   "codemirror_mode": {
    "name": "ipython",
    "version": 3
   },
   "file_extension": ".py",
   "mimetype": "text/x-python",
   "name": "python",
   "nbconvert_exporter": "python",
   "pygments_lexer": "ipython3",
   "version": "3.7.3"
  }
 },
 "nbformat": 4,
 "nbformat_minor": 2
}
