{
 "cells": [
  {
   "cell_type": "code",
   "execution_count": 1,
   "metadata": {},
   "outputs": [],
   "source": [
    "# Tracking a Nonstationary Problem, Exercise 2.5"
   ]
  },
  {
   "cell_type": "code",
   "execution_count": 2,
   "metadata": {},
   "outputs": [],
   "source": [
    "import numpy as np\n",
    "import matplotlib.pyplot as plt"
   ]
  },
  {
   "cell_type": "code",
   "execution_count": 3,
   "metadata": {},
   "outputs": [],
   "source": [
    "def environment():\n",
    "    \"\"\"Returns values and states for 10,000 steps with random walk.\"\"\"\n",
    "    values = np.random.normal(size = 10)\n",
    "    states = []\n",
    "\n",
    "    for t in range(10000):\n",
    "        state = np.random.normal(values)\n",
    "        random_walk = np.random.normal(scale = 0.01, size = 10)\n",
    "        values = values + random_walk\n",
    "        states.append(state)\n",
    "\n",
    "    states = np.array(states)\n",
    "    return values, states"
   ]
  },
  {
   "cell_type": "code",
   "execution_count": 4,
   "metadata": {},
   "outputs": [],
   "source": [
    "def agent():\n",
    "    \"\"\"Initiates estimated values and action counts.\"\"\"\n",
    "    Q = np.zeros(10)\n",
    "    N = np.zeros(10)\n",
    "    return Q, N"
   ]
  },
  {
   "cell_type": "code",
   "execution_count": 5,
   "metadata": {},
   "outputs": [],
   "source": [
    "def greedy(Q):\n",
    "    \"\"\"Picks most valuable action with random tiebreak.\"\"\"\n",
    "    best_choices = np.flatnonzero(Q == Q.max())\n",
    "    greedy_choice = np.random.choice(best_choices)\n",
    "    return greedy_choice"
   ]
  },
  {
   "cell_type": "code",
   "execution_count": 6,
   "metadata": {},
   "outputs": [],
   "source": [
    "def explore(Q):\n",
    "    \"\"\"Picks a random action.\"\"\"\n",
    "    explore_choice = np.random.choice(np.arange(Q.size))\n",
    "    return explore_choice"
   ]
  },
  {
   "cell_type": "code",
   "execution_count": 7,
   "metadata": {},
   "outputs": [],
   "source": [
    "def epsilon_greedy(Q, epsilon):\n",
    "    \"\"\"Picks a random action with epsilon probabilty. Greedy otherwise.\"\"\"\n",
    "    options = ['greedy', 'explore']\n",
    "    probabilities = [1 - epsilon, epsilon]\n",
    "    choice = np.random.choice(options, p = probabilities)\n",
    "    \n",
    "    if choice == 'greedy':\n",
    "        return greedy(Q)\n",
    "    elif choice == 'explore':\n",
    "        return explore(Q)"
   ]
  },
  {
   "cell_type": "code",
   "execution_count": 8,
   "metadata": {},
   "outputs": [],
   "source": [
    "def learn_stationary(Q, A, R, N):\n",
    "    \"\"\"Updates value estimate using the sample-average method.\"\"\"\n",
    "    N[A] = N[A] + 1\n",
    "    Q[A] = Q[A] + (R - Q[A]) / N[A]\n",
    "    return Q, N"
   ]
  },
  {
   "cell_type": "code",
   "execution_count": 9,
   "metadata": {},
   "outputs": [],
   "source": [
    "def learn_non_stationary(Q, A, R, alpha):\n",
    "    \"\"\"Updates value estimate using a constant step-size parameter.\"\"\"\n",
    "    Q[A] = Q[A] + (alpha * (R - Q[A]))\n",
    "    return Q"
   ]
  },
  {
   "cell_type": "code",
   "execution_count": 10,
   "metadata": {},
   "outputs": [],
   "source": [
    "def run(epsilon, runs, alpha = False):\n",
    "    \"\"\"Return average behavior given epsilon, number of runs and alpha.\"\"\"\n",
    "    values, states = environment() # start out equal\n",
    "    avg_rewards_list = []\n",
    "\n",
    "    for run in range(runs):\n",
    "        Q, N = agent()\n",
    "\n",
    "        rewards = 0\n",
    "        avg_rewards = []\n",
    "\n",
    "        for t, state in enumerate(states):\n",
    "            A = epsilon_greedy(Q, epsilon)\n",
    "            R = state[A]\n",
    "            if alpha:\n",
    "                Q = learn_non_stationary(Q, A, R, alpha)\n",
    "            else:\n",
    "                Q, N = learn_stationary(Q, A, R, N)\n",
    "\n",
    "            rewards = rewards + R\n",
    "            avg_reward = rewards / (t + 1)\n",
    "            avg_rewards.append(avg_reward)\n",
    "\n",
    "        avg_rewards_list.append(avg_rewards)\n",
    "\n",
    "    avg_rewards_arr = np.array(avg_rewards_list)\n",
    "    avg_behavior = avg_rewards_arr.sum(axis = 0) / runs\n",
    "    return avg_behavior"
   ]
  },
  {
   "cell_type": "code",
   "execution_count": 11,
   "metadata": {},
   "outputs": [
    {
     "name": "stdout",
     "output_type": "stream",
     "text": [
      "First run complete.\n",
      "Second run complete.\n"
     ]
    }
   ],
   "source": [
    "# running for epsilon = 0.01\n",
    "\n",
    "runs = 2000\n",
    "\n",
    "first = run(0.01, runs); print('First run complete.')\n",
    "second = run(0.01, runs, alpha = 0.1); print('Second run complete.') # constant step-size"
   ]
  },
  {
   "cell_type": "code",
   "execution_count": 12,
   "metadata": {},
   "outputs": [
    {
     "data": {
      "image/png": "[encoded data removed]",
      "text/plain": [
       "<Figure size 432x288 with 1 Axes>"
      ]
     },
     "metadata": {
      "needs_background": "light"
     },
     "output_type": "display_data"
    }
   ],
   "source": [
    "# plotting the results\n",
    "\n",
    "plt.plot(first, color = 'green', label = 'alpha = 1/N')\n",
    "plt.plot(second, color = 'red', label = 'alpha = 0.1') # constant step-size\n",
    "plt.xlabel('Steps')\n",
    "plt.ylabel('Average Reward')\n",
    "plt.ylim(bottom = 0)\n",
    "plt.legend()\n",
    "\n",
    "plt.show()"
   ]
  },
  {
   "cell_type": "code",
   "execution_count": null,
   "metadata": {},
   "outputs": [],
   "source": []
  }
 ],
 "metadata": {
  "kernelspec": {
   "display_name": "Python 3",
   "language": "python",
   "name": "python3"
  },
  "language_info": {
   "codemirror_mode": {
    "name": "ipython",
    "version": 3
   },
   "file_extension": ".py",
   "mimetype": "text/x-python",
   "name": "python",
   "nbconvert_exporter": "python",
   "pygments_lexer": "ipython3",
   "version": "3.7.3"
  }
 },
 "nbformat": 4,
 "nbformat_minor": 2
}
