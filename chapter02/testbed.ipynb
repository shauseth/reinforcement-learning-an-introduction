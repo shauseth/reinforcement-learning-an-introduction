{
 "cells": [
  {
   "cell_type": "code",
   "execution_count": 1,
   "metadata": {},
   "outputs": [],
   "source": [
    "# The 10-armed Testbed, Figure 2.2"
   ]
  },
  {
   "cell_type": "code",
   "execution_count": 2,
   "metadata": {},
   "outputs": [],
   "source": [
    "import numpy as np\n",
    "import matplotlib.pyplot as plt\n",
    "\n",
    "np.set_printoptions(precision = 2, suppress = True) # pretty print arrays"
   ]
  },
  {
   "cell_type": "code",
   "execution_count": 3,
   "metadata": {},
   "outputs": [],
   "source": [
    "def environment(k = 10):\n",
    "    \"\"\"Returns actual values and rewards for 1000 timesteps.\"\"\"\n",
    "    Q_s = np.random.normal(size = k)\n",
    "    R = []\n",
    "\n",
    "    for t in range(1000):\n",
    "        R_t = np.random.normal(Q_s)\n",
    "        R.append(R_t)\n",
    "        \n",
    "    R = np.array(R)\n",
    "        \n",
    "    return Q_s, R"
   ]
  },
  {
   "cell_type": "code",
   "execution_count": 4,
   "metadata": {},
   "outputs": [],
   "source": [
    "def agent():\n",
    "    \"\"\"Initiates estimated values, rewards collected and action counts.\"\"\"\n",
    "    Q = np.zeros(10)\n",
    "    r = np.zeros(10)\n",
    "    n_a = np.zeros(10)\n",
    "    return Q, r, n_a"
   ]
  },
  {
   "cell_type": "code",
   "execution_count": 5,
   "metadata": {},
   "outputs": [],
   "source": [
    "def greedy(Q):\n",
    "    \"\"\"Picks most valuable action with random tiebreak.\"\"\"\n",
    "    best_values = np.flatnonzero(Q == Q.max())\n",
    "    random_greedy = np.random.choice(best_values)\n",
    "    return random_greedy"
   ]
  },
  {
   "cell_type": "code",
   "execution_count": 6,
   "metadata": {},
   "outputs": [],
   "source": [
    "def explore(Q):\n",
    "    \"\"\"Picks a random action.\"\"\"\n",
    "    random_choice = np.random.choice(np.arange(Q.size))\n",
    "    return random_choice"
   ]
  },
  {
   "cell_type": "code",
   "execution_count": 7,
   "metadata": {},
   "outputs": [],
   "source": [
    "def epsilon_greedy(Q, epsilon):\n",
    "    \"\"\"Picks a random action with epsilon probabilty.\"\"\"\n",
    "    options = ['greedy', 'epsilon']\n",
    "    probabilities = [1 - epsilon, epsilon]\n",
    "    choice = np.random.choice(options, p = probabilities)\n",
    "    \n",
    "    if choice == 'greedy':\n",
    "        return greedy(Q)\n",
    "    elif choice == 'epsilon':\n",
    "        return explore(Q)"
   ]
  },
  {
   "cell_type": "code",
   "execution_count": 8,
   "metadata": {},
   "outputs": [],
   "source": [
    "def learn(Q, action, r, n_a):\n",
    "    \"\"\"Updates value estimate using the sample-average method.\"\"\"\n",
    "    Q[action] = r[action] / n_a[action]\n",
    "    return Q"
   ]
  },
  {
   "cell_type": "code",
   "execution_count": 9,
   "metadata": {},
   "outputs": [],
   "source": [
    "def run(epsilon, runs):\n",
    "    \"\"\"Return average behavior for given epsilon and runs.\"\"\"\n",
    "    avg_rewards_list = []\n",
    "\n",
    "    for run in range(runs):\n",
    "        Q_s, R = environment()\n",
    "        Q, r, n_a = agent()\n",
    "        avg_rewards = []\n",
    "\n",
    "        for t, state in enumerate(R):\n",
    "            action = epsilon_greedy(Q, epsilon)\n",
    "            reward = state[action]\n",
    "            n_a[action] += 1\n",
    "            r[action] += reward\n",
    "            avg_reward = r.sum() / (t + 1)\n",
    "            avg_rewards.append(avg_reward)\n",
    "            Q = learn(Q, action, r, n_a)\n",
    "\n",
    "        avg_rewards_list.append(np.array(avg_rewards))\n",
    "        \n",
    "    avg_behavior = [np.array(avg_rewards_list)[:, x].sum() / runs for x in range(1000)]\n",
    "    return avg_behavior"
   ]
  },
  {
   "cell_type": "code",
   "execution_count": null,
   "metadata": {},
   "outputs": [
    {
     "name": "stdout",
     "output_type": "stream",
     "text": [
      "First run complete.\n",
      "Second run complete.\n"
     ]
    }
   ],
   "source": [
    "# running for epsilon = 0, 0.01 and 0.1\n",
    "\n",
    "runs = 2000\n",
    "\n",
    "avg_behavior_first = run(0, runs); print('First run complete.')\n",
    "avg_behavior_second = run(0.01, runs); print('Second run complete.')\n",
    "avg_behavior_third = run(0.1, runs); print('Third run complete.')"
   ]
  },
  {
   "cell_type": "code",
   "execution_count": null,
   "metadata": {},
   "outputs": [],
   "source": [
    "# plotting the results\n",
    "\n",
    "plt.plot(avg_behavior_first, color = 'green', label = 'epsilon = 0')\n",
    "plt.plot(avg_behavior_second, color = 'red', label = 'epsilon = 0.01')\n",
    "plt.plot(avg_behavior_third, color = 'blue', label = 'epsilon = 0.1')\n",
    "plt.xlabel('Steps')\n",
    "plt.ylabel('Average Reward')\n",
    "plt.ylim(bottom = 0)\n",
    "plt.legend()\n",
    "\n",
    "plt.show()"
   ]
  },
  {
   "cell_type": "code",
   "execution_count": null,
   "metadata": {},
   "outputs": [],
   "source": []
  }
 ],
 "metadata": {
  "kernelspec": {
   "display_name": "Python 3",
   "language": "python",
   "name": "python3"
  },
  "language_info": {
   "codemirror_mode": {
    "name": "ipython",
    "version": 3
   },
   "file_extension": ".py",
   "mimetype": "text/x-python",
   "name": "python",
   "nbconvert_exporter": "python",
   "pygments_lexer": "ipython3",
   "version": "3.7.3"
  }
 },
 "nbformat": 4,
 "nbformat_minor": 2
}
