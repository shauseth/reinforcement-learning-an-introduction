{
 "cells": [
  {
   "cell_type": "code",
   "execution_count": 1,
   "metadata": {},
   "outputs": [],
   "source": [
    "# Tracking a Nonstationary Problem, Exercise 2.5"
   ]
  },
  {
   "cell_type": "code",
   "execution_count": 2,
   "metadata": {},
   "outputs": [],
   "source": [
    "import numpy as np\n",
    "import matplotlib.pyplot as plt"
   ]
  },
  {
   "cell_type": "code",
   "execution_count": 3,
   "metadata": {},
   "outputs": [],
   "source": [
    "def bandits(steps):\n",
    "    \"\"\"Generates 10-armed bandits with random walk.\"\"\"\n",
    "    values = np.random.normal(size = 10)\n",
    "    \n",
    "    for t in range(steps):\n",
    "        bandit = np.random.normal(values)\n",
    "        random_walk = np.random.normal(scale = 0.01, size = 10)\n",
    "        values = values + random_walk\n",
    "        yield bandit"
   ]
  },
  {
   "cell_type": "code",
   "execution_count": 4,
   "metadata": {},
   "outputs": [],
   "source": [
    "def greedy(Q):\n",
    "    \"\"\"Picks most valuable action with random tiebreak.\"\"\"\n",
    "    best_choices = np.flatnonzero(Q == Q.max())\n",
    "    greedy_choice = np.random.choice(best_choices)\n",
    "    return greedy_choice"
   ]
  },
  {
   "cell_type": "code",
   "execution_count": 5,
   "metadata": {},
   "outputs": [],
   "source": [
    "def random(Q):\n",
    "    \"\"\"Picks a random action.\"\"\"\n",
    "    all_choices = np.arange(Q.size)\n",
    "    explore_choice = np.random.choice(all_choices)\n",
    "    return explore_choice"
   ]
  },
  {
   "cell_type": "code",
   "execution_count": 6,
   "metadata": {},
   "outputs": [],
   "source": [
    "def epsilon_greedy(Q, epsilon):\n",
    "    \"\"\"Picks a random action with epsilon probabilty. Greedy otherwise.\"\"\"\n",
    "    options = ['greedy', 'random']\n",
    "    probabilities = [1 - epsilon, epsilon]\n",
    "    choice = np.random.choice(options, p = probabilities)\n",
    "    \n",
    "    if choice == 'greedy':\n",
    "        return greedy(Q)\n",
    "    elif choice == 'random':\n",
    "        return random(Q)"
   ]
  },
  {
   "cell_type": "code",
   "execution_count": 7,
   "metadata": {},
   "outputs": [],
   "source": [
    "def run(runs, epsilon, alpha, steps = 10000):\n",
    "    \"\"\"Return average behavior given number of runs, epsilon and alpha.\"\"\"\n",
    "    rewards = np.zeros((runs, steps))\n",
    "\n",
    "    for run in range(runs):\n",
    "        Q = np.zeros(10)\n",
    "        N = np.zeros(10)\n",
    "\n",
    "        for t, bandit in enumerate(bandits(steps)):\n",
    "            A = epsilon_greedy(Q, epsilon)\n",
    "            R = bandit[A]\n",
    "            \n",
    "            if alpha:\n",
    "                Q[A] = Q[A] + (alpha * (R - Q[A])) # constant step-size\n",
    "            else:\n",
    "                N[A] = N[A] + 1\n",
    "                Q[A] = Q[A] + (R - Q[A]) / N[A] # sample-average\n",
    "                \n",
    "            rewards[run, t] = R\n",
    "\n",
    "    avg_rewards = rewards.mean(axis = 0)\n",
    "    return avg_rewards"
   ]
  },
  {
   "cell_type": "code",
   "execution_count": 8,
   "metadata": {},
   "outputs": [
    {
     "name": "stdout",
     "output_type": "stream",
     "text": [
      "First run complete.\n",
      "Second run complete.\n"
     ]
    },
    {
     "data": {
      "image/png": "[encoded data removed]",
      "text/plain": [
       "<Figure size 576x288 with 1 Axes>"
      ]
     },
     "metadata": {
      "needs_background": "light"
     },
     "output_type": "display_data"
    }
   ],
   "source": [
    "# running and plotting the results\n",
    "\n",
    "runs = 2000\n",
    "\n",
    "plt.figure(figsize = (8, 4))\n",
    "\n",
    "first = run(runs, 0.1, alpha = None); print('First run complete.')\n",
    "plt.plot(first, color = 'green', label = 'alpha = 1/N')\n",
    "\n",
    "second = run(runs, 0.1, alpha = 0.1); print('Second run complete.')\n",
    "plt.plot(second, color = 'red', label = 'alpha = 0.1')\n",
    "\n",
    "plt.xlabel('Steps')\n",
    "plt.ylabel('Average Reward')\n",
    "plt.ylim(bottom = 0)\n",
    "plt.legend(loc = 4)\n",
    "\n",
    "plt.show()"
   ]
  },
  {
   "cell_type": "code",
   "execution_count": null,
   "metadata": {},
   "outputs": [],
   "source": []
  }
 ],
 "metadata": {
  "kernelspec": {
   "display_name": "Python 3",
   "language": "python",
   "name": "python3"
  },
  "language_info": {
   "codemirror_mode": {
    "name": "ipython",
    "version": 3
   },
   "file_extension": ".py",
   "mimetype": "text/x-python",
   "name": "python",
   "nbconvert_exporter": "python",
   "pygments_lexer": "ipython3",
   "version": "3.7.3"
  }
 },
 "nbformat": 4,
 "nbformat_minor": 2
}
