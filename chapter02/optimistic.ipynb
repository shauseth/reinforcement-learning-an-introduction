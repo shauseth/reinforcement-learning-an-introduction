{
 "cells": [
  {
   "cell_type": "code",
   "execution_count": 1,
   "metadata": {},
   "outputs": [],
   "source": [
    "# Optimistic Initial Values, Figure 2.3"
   ]
  },
  {
   "cell_type": "code",
   "execution_count": 2,
   "metadata": {},
   "outputs": [],
   "source": [
    "import numpy as np\n",
    "import matplotlib.pyplot as plt\n",
    "\n",
    "np.set_printoptions(precision=2, suppress=True)"
   ]
  },
  {
   "cell_type": "code",
   "execution_count": 3,
   "metadata": {},
   "outputs": [],
   "source": [
    "def environment():\n",
    "    \"\"\"Returns values and states for 1000 timesteps.\"\"\"\n",
    "    values = np.random.normal(size = 10)\n",
    "    states = np.array([np.random.normal(values) for t in range(1000)])\n",
    "    return values, states"
   ]
  },
  {
   "cell_type": "code",
   "execution_count": 4,
   "metadata": {},
   "outputs": [],
   "source": [
    "def agent(initial):\n",
    "    \"\"\"Initiates estimated values and action counts.\"\"\"\n",
    "    Q = np.full(10, initial).astype(float)\n",
    "    return Q"
   ]
  },
  {
   "cell_type": "code",
   "execution_count": 5,
   "metadata": {},
   "outputs": [],
   "source": [
    "def greedy(Q):\n",
    "    \"\"\"Picks most valuable action with random tiebreak.\"\"\"\n",
    "    best_choices = np.flatnonzero(Q == Q.max())\n",
    "    greedy_choice = np.random.choice(best_choices)\n",
    "    return greedy_choice"
   ]
  },
  {
   "cell_type": "code",
   "execution_count": 6,
   "metadata": {},
   "outputs": [],
   "source": [
    "def explore(Q):\n",
    "    \"\"\"Picks a random action.\"\"\"\n",
    "    explore_choice = np.random.choice(np.arange(Q.size))\n",
    "    return explore_choice"
   ]
  },
  {
   "cell_type": "code",
   "execution_count": 7,
   "metadata": {},
   "outputs": [],
   "source": [
    "def epsilon_greedy(Q, epsilon):\n",
    "    \"\"\"Picks a random action with epsilon probabilty. Greedy otherwise.\"\"\"\n",
    "    options = ['greedy', 'explore']\n",
    "    probabilities = [1 - epsilon, epsilon]\n",
    "    choice = np.random.choice(options, p = probabilities)\n",
    "    \n",
    "    if choice == 'greedy':\n",
    "        return greedy(Q)\n",
    "    elif choice == 'explore':\n",
    "        return explore(Q)"
   ]
  },
  {
   "cell_type": "code",
   "execution_count": 8,
   "metadata": {},
   "outputs": [],
   "source": [
    "def learn_non_stationary(Q, A, R, alpha):\n",
    "    \"\"\"Updates value estimate using a constant step-size parameter.\"\"\"\n",
    "    Q[A] = Q[A] + (alpha * (R - Q[A]))\n",
    "    return Q"
   ]
  },
  {
   "cell_type": "code",
   "execution_count": 9,
   "metadata": {},
   "outputs": [],
   "source": [
    "def run(epsilon, runs, alpha, initial):\n",
    "    \"\"\"Return average behavior given epsilon, number of runs, alpha and inital optimism.\"\"\"\n",
    "    opt_actions_list = []\n",
    "\n",
    "    for run in range(runs):\n",
    "        values, states = environment()\n",
    "        Q = agent(initial)\n",
    "\n",
    "        opt_action = 0\n",
    "        opt_actions = []\n",
    "\n",
    "        for t, state in enumerate(states):\n",
    "            A = epsilon_greedy(Q, epsilon)\n",
    "            R = state[A]\n",
    "            Q = learn_non_stationary(Q, A, R, alpha)\n",
    "\n",
    "            if values.argmax() == Q.argmax():\n",
    "                opt_action = opt_action + 1\n",
    "\n",
    "            opt_actions.append(opt_action / (t + 1))\n",
    "\n",
    "        opt_actions_list.append(opt_actions)\n",
    "\n",
    "    opt_actions_arr = np.array(opt_actions_list)\n",
    "    action_perc = opt_actions_arr.mean(axis = 0) * 100\n",
    "    return action_perc"
   ]
  },
  {
   "cell_type": "code",
   "execution_count": 10,
   "metadata": {},
   "outputs": [
    {
     "name": "stdout",
     "output_type": "stream",
     "text": [
      "First run complete.\n",
      "Second run complete.\n"
     ]
    }
   ],
   "source": [
    "# running for intital values of 0 and 5\n",
    "\n",
    "runs = 2000\n",
    "alpha = 0.1\n",
    "\n",
    "first = run(0.1, runs, alpha, 0); print('First run complete.')\n",
    "second = run(0, runs, alpha, 5); print('Second run complete.') # inital optimism +5"
   ]
  },
  {
   "cell_type": "code",
   "execution_count": 11,
   "metadata": {},
   "outputs": [
    {
     "data": {
      "image/png": "[encoded data removed]",
      "text/plain": [
       "<Figure size 432x288 with 1 Axes>"
      ]
     },
     "metadata": {
      "needs_background": "light"
     },
     "output_type": "display_data"
    }
   ],
   "source": [
    "# plotting the results\n",
    "\n",
    "plt.plot(first, color = 'grey', label = 'Realistic, epsilon-greedy')\n",
    "plt.plot(second, color = 'lightskyblue', label = 'Optimistic, greedy')\n",
    "plt.xlabel('Steps')\n",
    "plt.ylabel('% Optimal Action')\n",
    "plt.ylim(top = 100, bottom = 0)\n",
    "plt.legend(loc = 4)\n",
    "\n",
    "plt.show()"
   ]
  },
  {
   "cell_type": "code",
   "execution_count": null,
   "metadata": {},
   "outputs": [],
   "source": []
  }
 ],
 "metadata": {
  "kernelspec": {
   "display_name": "Python 3",
   "language": "python",
   "name": "python3"
  },
  "language_info": {
   "codemirror_mode": {
    "name": "ipython",
    "version": 3
   },
   "file_extension": ".py",
   "mimetype": "text/x-python",
   "name": "python",
   "nbconvert_exporter": "python",
   "pygments_lexer": "ipython3",
   "version": "3.7.3"
  }
 },
 "nbformat": 4,
 "nbformat_minor": 2
}
